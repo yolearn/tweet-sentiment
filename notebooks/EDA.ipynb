{
 "cells": [
  {
   "cell_type": "code",
   "execution_count": 1,
   "metadata": {},
   "outputs": [
    {
     "data": {
      "text/plain": [
       "['.DS_Store',\n",
       " 'test.csv',\n",
       " 'roberta-base',\n",
       " 'merges.txt',\n",
       " 'spiece.model',\n",
       " 'vocab.txt',\n",
       " 'train.csv',\n",
       " 'vocab.json',\n",
       " 'bert-base-uncased',\n",
       " 'roberta-base-squad2',\n",
       " 'sample_submission.csv']"
      ]
     },
     "execution_count": 1,
     "metadata": {},
     "output_type": "execute_result"
    }
   ],
   "source": [
    "import os\n",
    "import pandas as pd\n",
    "import pandas as pd\n",
    "pd.set_option('display.max_rows', 500)\n",
    "pd.set_option('display.max_columns', 500)\n",
    "pd.set_option('display.width', 1000)\n",
    "os.listdir('../input/')"
   ]
  },
  {
   "cell_type": "code",
   "execution_count": 122,
   "metadata": {},
   "outputs": [],
   "source": [
    "trn_df = pd.read_csv('../input/train.csv')\n",
    "test_df = pd.read_csv('../input/test.csv')\n",
    "\n",
    "trn_df['text'] = trn_df['text'].astype(str)\n",
    "test_df['text'] = test_df['text'].astype(str)\n",
    "trn_df['text_len'] = trn_df['text'].apply(lambda x : len(x.split()))\n",
    "test_df['text_len'] = test_df['text'].apply(lambda x : len(x.split()))\n",
    "trn_df['selected_text'] = trn_df['selected_text'].astype(str)\n",
    "trn_df['selected_text_len'] = trn_df['selected_text'].apply(lambda x : len(x.split()))\n",
    "trn_df['selected_rate'] = trn_df['selected_text_len'] / trn_df['text_len']\n",
    "\n",
    "pos_df = trn_df[trn_df.sentiment == 'positive']\n",
    "neg_df = trn_df[trn_df.sentiment == 'negative']\n",
    "neu_df = trn_df[trn_df.sentiment == 'neutral']\n",
    "\n"
   ]
  },
  {
   "cell_type": "code",
   "execution_count": 123,
   "metadata": {},
   "outputs": [
    {
     "name": "stdout",
     "output_type": "stream",
     "text": [
      "train rows : 27480\n",
      "test rows : 3534\n",
      "\n",
      "train mean and median sentence length : 12.90287481804949, 12.0\n",
      "test mean sentence length : 12.763157894736842, 12.0\n",
      "\n",
      "train mean and median sentence length : 12.90287481804949, 12.0\n",
      "test mean sentence length : 12.763157894736842, 12.0\n"
     ]
    }
   ],
   "source": [
    "print(f\"train rows : {trn_df.shape[0]}\")\n",
    "print(f\"test rows : {test_df.shape[0]}\")\n",
    "print(\"\")\n",
    "print(f\"train mean and median sentence length : {trn_df['text_len'].mean()}, {trn_df['text_len'].median()}\")\n",
    "print(f\"test mean sentence length : {test_df['text_len'].mean()}, {test_df['text_len'].median()}\")\n",
    "print(\"\")\n",
    "print(f\"train mean and median sentence length : {trn_df['text_len'].mean()}, {trn_df['text_len'].median()}\")\n",
    "print(f\"test mean sentence length : {test_df['text_len'].mean()}, {test_df['text_len'].median()}\")"
   ]
  },
  {
   "cell_type": "code",
   "execution_count": 124,
   "metadata": {},
   "outputs": [
    {
     "data": {
      "text/plain": [
       "sentiment\n",
       "negative     3.957975\n",
       "neutral     12.069533\n",
       "positive     3.519343\n",
       "Name: selected_text_len, dtype: float64"
      ]
     },
     "execution_count": 124,
     "metadata": {},
     "output_type": "execute_result"
    }
   ],
   "source": [
    "trn_df.groupby('sentiment')['selected_text_len'].mean()"
   ]
  },
  {
   "cell_type": "code",
   "execution_count": 125,
   "metadata": {},
   "outputs": [],
   "source": [
    "def check_if_same_by_length(df):\n",
    "    sentiments = []\n",
    "    lengths = []\n",
    "    rates = []\n",
    "    \n",
    "    for sentiment in ['positive', 'negative', 'neutral']:\n",
    "        for length in range(1,33):\n",
    "            yes = 0\n",
    "            no = 0\n",
    "            for i, series in df[(df['sentiment'] == sentiment) & (df['text_len'] == length)].iterrows():\n",
    "                if series['selected_text_len'] == series['text_len']:\n",
    "                    yes+=1\n",
    "                else:\n",
    "                    no+=1\n",
    "            sentiments.append(sentiment)\n",
    "            lengths.append(length)\n",
    "            rates.append(yes/(yes+no))\n",
    "\n",
    "    return pd.DataFrame({'sentiments':sentiments, 'lengths':lengths, 'rates':rates})\n",
    "\n",
    "df = check_if_same_by_length(trn_df)"
   ]
  },
  {
   "cell_type": "code",
   "execution_count": 126,
   "metadata": {},
   "outputs": [
    {
     "data": {
      "image/png": "[encoded data removed]",
      "text/plain": [
       "<Figure size 432x288 with 1 Axes>"
      ]
     },
     "metadata": {
      "needs_background": "light"
     },
     "output_type": "display_data"
    }
   ],
   "source": [
    "import matplotlib.pyplot as plt\n",
    "for sentiment in ['positive', 'negative', 'neutral']:\n",
    "    plt.plot(df[df['sentiments'] == sentiment]['lengths'], df[df['sentiments'] == sentiment]['rates'])"
   ]
  },
  {
   "cell_type": "code",
   "execution_count": 127,
   "metadata": {},
   "outputs": [
    {
     "data": {
      "text/html": [
       "<div>\n",
       "<style scoped>\n",
       "    .dataframe tbody tr th:only-of-type {\n",
       "        vertical-align: middle;\n",
       "    }\n",
       "\n",
       "    .dataframe tbody tr th {\n",
       "        vertical-align: top;\n",
       "    }\n",
       "\n",
       "    .dataframe thead th {\n",
       "        text-align: right;\n",
       "    }\n",
       "</style>\n",
       "<table border=\"1\" class=\"dataframe\">\n",
       "  <thead>\n",
       "    <tr style=\"text-align: right;\">\n",
       "      <th></th>\n",
       "      <th>textID</th>\n",
       "      <th>text</th>\n",
       "      <th>selected_text</th>\n",
       "      <th>sentiment</th>\n",
       "      <th>text_len</th>\n",
       "      <th>selected_text_len</th>\n",
       "      <th>selected_rate</th>\n",
       "    </tr>\n",
       "  </thead>\n",
       "  <tbody>\n",
       "    <tr>\n",
       "      <td>63</td>\n",
       "      <td>90a2cdb657</td>\n",
       "      <td>What better way to spoil mum than to let her k...</td>\n",
       "      <td>favorite</td>\n",
       "      <td>positive</td>\n",
       "      <td>30</td>\n",
       "      <td>1</td>\n",
       "      <td>0.033333</td>\n",
       "    </tr>\n",
       "    <tr>\n",
       "      <td>3201</td>\n",
       "      <td>d68d87da7b</td>\n",
       "      <td>well.. all my slacking off earned me a D and a...</td>\n",
       "      <td>earned me</td>\n",
       "      <td>positive</td>\n",
       "      <td>30</td>\n",
       "      <td>2</td>\n",
       "      <td>0.066667</td>\n",
       "    </tr>\n",
       "    <tr>\n",
       "      <td>4543</td>\n",
       "      <td>ef5c867533</td>\n",
       "      <td>aww  i hope u find it soon i miss it. i cnt e...</td>\n",
       "      <td>aww  i hope u find it soon i miss it.</td>\n",
       "      <td>positive</td>\n",
       "      <td>30</td>\n",
       "      <td>10</td>\n",
       "      <td>0.333333</td>\n",
       "    </tr>\n",
       "    <tr>\n",
       "      <td>4793</td>\n",
       "      <td>a18d8120be</td>\n",
       "      <td>Recovering from my crazy family. I love them, ...</td>\n",
       "      <td>Recovering from my crazy family. I love them, ...</td>\n",
       "      <td>positive</td>\n",
       "      <td>30</td>\n",
       "      <td>30</td>\n",
       "      <td>1.000000</td>\n",
       "    </tr>\n",
       "    <tr>\n",
       "      <td>5370</td>\n",
       "      <td>a85eb567d6</td>\n",
       "      <td>checked out Green Day on demand &amp; saw the new ...</td>\n",
       "      <td>U were right, they did blow my mind  I love u ...</td>\n",
       "      <td>positive</td>\n",
       "      <td>30</td>\n",
       "      <td>18</td>\n",
       "      <td>0.600000</td>\n",
       "    </tr>\n",
       "    <tr>\n",
       "      <td>6890</td>\n",
       "      <td>e9990baa94</td>\n",
       "      <td>I TRIED TO PUT A IRON ON , ON MY BOOK BAG AND ...</td>\n",
       "      <td>BUZZ KEEP MAKING FUN OF ME</td>\n",
       "      <td>positive</td>\n",
       "      <td>30</td>\n",
       "      <td>6</td>\n",
       "      <td>0.200000</td>\n",
       "    </tr>\n",
       "    <tr>\n",
       "      <td>8385</td>\n",
       "      <td>c930716002</td>\n",
       "      <td>Happy Friday! Do u know how I can get a copy ...</td>\n",
       "      <td>Happy Friday!</td>\n",
       "      <td>positive</td>\n",
       "      <td>30</td>\n",
       "      <td>2</td>\n",
       "      <td>0.066667</td>\n",
       "    </tr>\n",
       "    <tr>\n",
       "      <td>13595</td>\n",
       "      <td>e5af32e35c</td>\n",
       "      <td>I am going to work than, ill be home, and im g...</td>\n",
       "      <td>everyone have a wonderful day</td>\n",
       "      <td>positive</td>\n",
       "      <td>30</td>\n",
       "      <td>5</td>\n",
       "      <td>0.166667</td>\n",
       "    </tr>\n",
       "    <tr>\n",
       "      <td>13698</td>\n",
       "      <td>23e8533b42</td>\n",
       "      <td>It`s so awesome to know that there are people ...</td>\n",
       "      <td>It`s so awesome to know that there are people ...</td>\n",
       "      <td>positive</td>\n",
       "      <td>30</td>\n",
       "      <td>30</td>\n",
       "      <td>1.000000</td>\n",
       "    </tr>\n",
       "    <tr>\n",
       "      <td>14701</td>\n",
       "      <td>88840a2a93</td>\n",
       "      <td>thx for all the nice 'it`s going to be alright...</td>\n",
       "      <td>thx for all the nice</td>\n",
       "      <td>positive</td>\n",
       "      <td>30</td>\n",
       "      <td>5</td>\n",
       "      <td>0.166667</td>\n",
       "    </tr>\n",
       "    <tr>\n",
       "      <td>14841</td>\n",
       "      <td>40c25ade49</td>\n",
       "      <td>me 10 - 630, andrew 8 - 4. No idea about the r...</td>\n",
       "      <td>fun</td>\n",
       "      <td>positive</td>\n",
       "      <td>30</td>\n",
       "      <td>1</td>\n",
       "      <td>0.033333</td>\n",
       "    </tr>\n",
       "    <tr>\n",
       "      <td>16444</td>\n",
       "      <td>ea179bc7a9</td>\n",
       "      <td>i`m doin my tweets on my phone so i have on cl...</td>\n",
       "      <td>thank u</td>\n",
       "      <td>positive</td>\n",
       "      <td>30</td>\n",
       "      <td>2</td>\n",
       "      <td>0.066667</td>\n",
       "    </tr>\n",
       "    <tr>\n",
       "      <td>19411</td>\n",
       "      <td>5cbd4f1169</td>\n",
       "      <td>Happy Mother`s day! Sent msg to mom and got he...</td>\n",
       "      <td>I can take care of her.</td>\n",
       "      <td>positive</td>\n",
       "      <td>30</td>\n",
       "      <td>6</td>\n",
       "      <td>0.200000</td>\n",
       "    </tr>\n",
       "    <tr>\n",
       "      <td>23182</td>\n",
       "      <td>5d29c8c13a</td>\n",
       "      <td>Off to bed - I have a hot date with Sudoku and...</td>\n",
       "      <td>great</td>\n",
       "      <td>positive</td>\n",
       "      <td>30</td>\n",
       "      <td>1</td>\n",
       "      <td>0.033333</td>\n",
       "    </tr>\n",
       "    <tr>\n",
       "      <td>23799</td>\n",
       "      <td>044d652e38</td>\n",
       "      <td>sheboygan / teekay / other kids / fight / angu...</td>\n",
       "      <td>fun night</td>\n",
       "      <td>positive</td>\n",
       "      <td>30</td>\n",
       "      <td>2</td>\n",
       "      <td>0.066667</td>\n",
       "    </tr>\n",
       "    <tr>\n",
       "      <td>24985</td>\n",
       "      <td>f7743c41d7</td>\n",
       "      <td>i love all da sexy ladiez ya beautiful unique ...</td>\n",
       "      <td>i love all da sexy ladiez ya beautiful unique ...</td>\n",
       "      <td>positive</td>\n",
       "      <td>30</td>\n",
       "      <td>30</td>\n",
       "      <td>1.000000</td>\n",
       "    </tr>\n",
       "  </tbody>\n",
       "</table>\n",
       "</div>"
      ],
      "text/plain": [
       "           textID                                               text                                      selected_text sentiment  text_len  selected_text_len  selected_rate\n",
       "63     90a2cdb657  What better way to spoil mum than to let her k...                                           favorite  positive        30                  1       0.033333\n",
       "3201   d68d87da7b  well.. all my slacking off earned me a D and a...                                          earned me  positive        30                  2       0.066667\n",
       "4543   ef5c867533   aww  i hope u find it soon i miss it. i cnt e...              aww  i hope u find it soon i miss it.  positive        30                 10       0.333333\n",
       "4793   a18d8120be  Recovering from my crazy family. I love them, ...  Recovering from my crazy family. I love them, ...  positive        30                 30       1.000000\n",
       "5370   a85eb567d6  checked out Green Day on demand & saw the new ...  U were right, they did blow my mind  I love u ...  positive        30                 18       0.600000\n",
       "6890   e9990baa94  I TRIED TO PUT A IRON ON , ON MY BOOK BAG AND ...                         BUZZ KEEP MAKING FUN OF ME  positive        30                  6       0.200000\n",
       "8385   c930716002   Happy Friday! Do u know how I can get a copy ...                                      Happy Friday!  positive        30                  2       0.066667\n",
       "13595  e5af32e35c  I am going to work than, ill be home, and im g...                      everyone have a wonderful day  positive        30                  5       0.166667\n",
       "13698  23e8533b42  It`s so awesome to know that there are people ...  It`s so awesome to know that there are people ...  positive        30                 30       1.000000\n",
       "14701  88840a2a93  thx for all the nice 'it`s going to be alright...                               thx for all the nice  positive        30                  5       0.166667\n",
       "14841  40c25ade49  me 10 - 630, andrew 8 - 4. No idea about the r...                                                fun  positive        30                  1       0.033333\n",
       "16444  ea179bc7a9  i`m doin my tweets on my phone so i have on cl...                                            thank u  positive        30                  2       0.066667\n",
       "19411  5cbd4f1169  Happy Mother`s day! Sent msg to mom and got he...                            I can take care of her.  positive        30                  6       0.200000\n",
       "23182  5d29c8c13a  Off to bed - I have a hot date with Sudoku and...                                              great  positive        30                  1       0.033333\n",
       "23799  044d652e38  sheboygan / teekay / other kids / fight / angu...                                          fun night  positive        30                  2       0.066667\n",
       "24985  f7743c41d7  i love all da sexy ladiez ya beautiful unique ...  i love all da sexy ladiez ya beautiful unique ...  positive        30                 30       1.000000"
      ]
     },
     "execution_count": 127,
     "metadata": {},
     "output_type": "execute_result"
    }
   ],
   "source": [
    "trn_df[(trn_df['text_len'] == 30) & (trn_df['sentiment'] == 'positive')]"
   ]
  },
  {
   "cell_type": "markdown",
   "metadata": {},
   "source": [
    "# Check HTTP"
   ]
  },
  {
   "cell_type": "code",
   "execution_count": 128,
   "metadata": {},
   "outputs": [
    {
     "data": {
      "text/plain": [
       "neutral     578\n",
       "positive    409\n",
       "negative    233\n",
       "Name: sentiment, dtype: int64"
      ]
     },
     "execution_count": 128,
     "metadata": {},
     "output_type": "execute_result"
    }
   ],
   "source": [
    "trn_df.loc[trn_df.text.str.contains('http://'), 'sentiment'].value_counts()"
   ]
  },
  {
   "cell_type": "code",
   "execution_count": 129,
   "metadata": {},
   "outputs": [
    {
     "data": {
      "text/plain": [
       "neutral     344\n",
       "positive      3\n",
       "negative      3\n",
       "Name: sentiment, dtype: int64"
      ]
     },
     "execution_count": 129,
     "metadata": {},
     "output_type": "execute_result"
    }
   ],
   "source": [
    "trn_df.loc[trn_df.selected_text.str.contains('http://'), 'sentiment'].value_counts()"
   ]
  },
  {
   "cell_type": "code",
   "execution_count": 130,
   "metadata": {},
   "outputs": [
    {
     "data": {
      "text/plain": [
       "neutral     83\n",
       "positive    63\n",
       "negative    28\n",
       "Name: sentiment, dtype: int64"
      ]
     },
     "execution_count": 130,
     "metadata": {},
     "output_type": "execute_result"
    }
   ],
   "source": [
    "test_df.loc[test_df.text.str.contains('http://'), 'sentiment'].value_counts()"
   ]
  },
  {
   "cell_type": "code",
   "execution_count": 131,
   "metadata": {},
   "outputs": [
    {
     "data": {
      "text/plain": [
       "'i`ve been sick for the past few days  and thus, my hair looks wierd.  if i didnt have a hat on it would look... http://tinyurl.com/mnf4kw'"
      ]
     },
     "execution_count": 131,
     "metadata": {},
     "output_type": "execute_result"
    }
   ],
   "source": [
    "trn_df.iloc[17]['text']"
   ]
  },
  {
   "cell_type": "code",
   "execution_count": 132,
   "metadata": {},
   "outputs": [
    {
     "data": {
      "text/html": [
       "<div>\n",
       "<style scoped>\n",
       "    .dataframe tbody tr th:only-of-type {\n",
       "        vertical-align: middle;\n",
       "    }\n",
       "\n",
       "    .dataframe tbody tr th {\n",
       "        vertical-align: top;\n",
       "    }\n",
       "\n",
       "    .dataframe thead th {\n",
       "        text-align: right;\n",
       "    }\n",
       "</style>\n",
       "<table border=\"1\" class=\"dataframe\">\n",
       "  <thead>\n",
       "    <tr style=\"text-align: right;\">\n",
       "      <th></th>\n",
       "      <th>textID</th>\n",
       "      <th>text</th>\n",
       "      <th>selected_text</th>\n",
       "      <th>sentiment</th>\n",
       "      <th>text_len</th>\n",
       "      <th>selected_text_len</th>\n",
       "      <th>selected_rate</th>\n",
       "    </tr>\n",
       "  </thead>\n",
       "  <tbody>\n",
       "    <tr>\n",
       "      <td>17</td>\n",
       "      <td>919fa93391</td>\n",
       "      <td>i`ve been sick for the past few days  and thus...</td>\n",
       "      <td>sick</td>\n",
       "      <td>negative</td>\n",
       "      <td>25</td>\n",
       "      <td>1</td>\n",
       "      <td>0.040000</td>\n",
       "    </tr>\n",
       "    <tr>\n",
       "      <td>35</td>\n",
       "      <td>4f5267ad70</td>\n",
       "      <td>Thats it, its the end. Tears for Fears vs Eric...</td>\n",
       "      <td>Thats it, its the end. Tears for Fears</td>\n",
       "      <td>neutral</td>\n",
       "      <td>14</td>\n",
       "      <td>8</td>\n",
       "      <td>0.571429</td>\n",
       "    </tr>\n",
       "    <tr>\n",
       "      <td>57</td>\n",
       "      <td>6086b1f016</td>\n",
       "      <td>will be back later.  http://plurk.com/p/rp3k7</td>\n",
       "      <td>will be back later.</td>\n",
       "      <td>neutral</td>\n",
       "      <td>5</td>\n",
       "      <td>4</td>\n",
       "      <td>0.800000</td>\n",
       "    </tr>\n",
       "    <tr>\n",
       "      <td>64</td>\n",
       "      <td>98f25bc596</td>\n",
       "      <td>mannnn..... _ got an iphone!!! im jealous.... ...</td>\n",
       "      <td>jealous..</td>\n",
       "      <td>negative</td>\n",
       "      <td>8</td>\n",
       "      <td>1</td>\n",
       "      <td>0.125000</td>\n",
       "    </tr>\n",
       "    <tr>\n",
       "      <td>172</td>\n",
       "      <td>bc02870b7d</td>\n",
       "      <td>URL in previous post (to timer job) should be ...</td>\n",
       "      <td>messed</td>\n",
       "      <td>negative</td>\n",
       "      <td>18</td>\n",
       "      <td>1</td>\n",
       "      <td>0.055556</td>\n",
       "    </tr>\n",
       "    <tr>\n",
       "      <td>...</td>\n",
       "      <td>...</td>\n",
       "      <td>...</td>\n",
       "      <td>...</td>\n",
       "      <td>...</td>\n",
       "      <td>...</td>\n",
       "      <td>...</td>\n",
       "      <td>...</td>\n",
       "    </tr>\n",
       "    <tr>\n",
       "      <td>27373</td>\n",
       "      <td>b49385ebb7</td>\n",
       "      <td>says Finally, Im home.  http://plurk.com/p/rr121</td>\n",
       "      <td>says Finally, Im home.</td>\n",
       "      <td>neutral</td>\n",
       "      <td>5</td>\n",
       "      <td>4</td>\n",
       "      <td>0.800000</td>\n",
       "    </tr>\n",
       "    <tr>\n",
       "      <td>27383</td>\n",
       "      <td>f94af8cb85</td>\n",
       "      <td>This is a much better tool than some I have co...</td>\n",
       "      <td>This is a much better tool</td>\n",
       "      <td>positive</td>\n",
       "      <td>18</td>\n",
       "      <td>6</td>\n",
       "      <td>0.333333</td>\n",
       "    </tr>\n",
       "    <tr>\n",
       "      <td>27385</td>\n",
       "      <td>e149ebd3a1</td>\n",
       "      <td>#vwll2009 Would one of the VWLLers want to add...</td>\n",
       "      <td>ch appreciat</td>\n",
       "      <td>positive</td>\n",
       "      <td>19</td>\n",
       "      <td>2</td>\n",
       "      <td>0.105263</td>\n",
       "    </tr>\n",
       "    <tr>\n",
       "      <td>27462</td>\n",
       "      <td>a38bf809b0</td>\n",
       "      <td>LIKE DREW SAID 'GIVE TC A CHANCE' WE WILL MIS...</td>\n",
       "      <td>MISS</td>\n",
       "      <td>negative</td>\n",
       "      <td>20</td>\n",
       "      <td>1</td>\n",
       "      <td>0.050000</td>\n",
       "    </tr>\n",
       "    <tr>\n",
       "      <td>27471</td>\n",
       "      <td>8f5adc47ec</td>\n",
       "      <td>http://twitpic.com/663vr - Wanted to visit the...</td>\n",
       "      <td>were too late</td>\n",
       "      <td>negative</td>\n",
       "      <td>12</td>\n",
       "      <td>3</td>\n",
       "      <td>0.250000</td>\n",
       "    </tr>\n",
       "  </tbody>\n",
       "</table>\n",
       "<p>870 rows × 7 columns</p>\n",
       "</div>"
      ],
      "text/plain": [
       "           textID                                               text                           selected_text sentiment  text_len  selected_text_len  selected_rate\n",
       "17     919fa93391  i`ve been sick for the past few days  and thus...                                    sick  negative        25                  1       0.040000\n",
       "35     4f5267ad70  Thats it, its the end. Tears for Fears vs Eric...  Thats it, its the end. Tears for Fears   neutral        14                  8       0.571429\n",
       "57     6086b1f016      will be back later.  http://plurk.com/p/rp3k7                     will be back later.   neutral         5                  4       0.800000\n",
       "64     98f25bc596  mannnn..... _ got an iphone!!! im jealous.... ...                               jealous..  negative         8                  1       0.125000\n",
       "172    bc02870b7d  URL in previous post (to timer job) should be ...                                  messed  negative        18                  1       0.055556\n",
       "...           ...                                                ...                                     ...       ...       ...                ...            ...\n",
       "27373  b49385ebb7   says Finally, Im home.  http://plurk.com/p/rr121                  says Finally, Im home.   neutral         5                  4       0.800000\n",
       "27383  f94af8cb85  This is a much better tool than some I have co...              This is a much better tool  positive        18                  6       0.333333\n",
       "27385  e149ebd3a1  #vwll2009 Would one of the VWLLers want to add...                            ch appreciat  positive        19                  2       0.105263\n",
       "27462  a38bf809b0   LIKE DREW SAID 'GIVE TC A CHANCE' WE WILL MIS...                                    MISS  negative        20                  1       0.050000\n",
       "27471  8f5adc47ec  http://twitpic.com/663vr - Wanted to visit the...                           were too late  negative        12                  3       0.250000\n",
       "\n",
       "[870 rows x 7 columns]"
      ]
     },
     "execution_count": 132,
     "metadata": {},
     "output_type": "execute_result"
    }
   ],
   "source": [
    "trn_df.loc[(trn_df.text.str.contains('http://')) & ~(trn_df.selected_text.str.contains('http://'))]"
   ]
  },
  {
   "cell_type": "code",
   "execution_count": null,
   "metadata": {},
   "outputs": [],
   "source": []
  },
  {
   "cell_type": "markdown",
   "metadata": {},
   "source": [
    "# Check distribution"
   ]
  },
  {
   "cell_type": "code",
   "execution_count": 133,
   "metadata": {},
   "outputs": [
    {
     "data": {
      "text/plain": [
       "<matplotlib.axes._subplots.AxesSubplot at 0x12ff63fd0>"
      ]
     },
     "execution_count": 133,
     "metadata": {},
     "output_type": "execute_result"
    },
    {
     "data": {
      "image/png": "[encoded data removed]",
      "text/plain": [
       "<Figure size 432x288 with 1 Axes>"
      ]
     },
     "metadata": {
      "needs_background": "light"
     },
     "output_type": "display_data"
    }
   ],
   "source": [
    "import seaborn as sns\n",
    "fig = plt.figure()\n",
    "sns.distplot(trn_df['selected_rate'])"
   ]
  },
  {
   "cell_type": "code",
   "execution_count": 134,
   "metadata": {},
   "outputs": [
    {
     "data": {
      "image/png": "[encoded data removed]",
      "text/plain": [
       "<Figure size 432x288 with 3 Axes>"
      ]
     },
     "metadata": {
      "needs_background": "light"
     },
     "output_type": "display_data"
    }
   ],
   "source": [
    "fig, axes = plt.subplots(3,1)\n",
    "fig.tight_layout()\n",
    "\n",
    "ax0 = sns.distplot(trn_df['selected_text_len'], ax=axes[0])\n",
    "_ = ax0.set_title('selected text length plot')\n",
    "\n",
    "ax1 = sns.distplot(trn_df['text_len'], ax=axes[1])\n",
    "_ = ax1.set_title('text length plot')\n",
    "\n",
    "ax2 = sns.distplot(trn_df['selected_rate'], ax=axes[2])\n",
    "_ = ax2.set_title('rate plot')"
   ]
  },
  {
   "cell_type": "code",
   "execution_count": null,
   "metadata": {},
   "outputs": [],
   "source": []
  },
  {
   "cell_type": "markdown",
   "metadata": {},
   "source": [
    "# Find rule"
   ]
  },
  {
   "cell_type": "code",
   "execution_count": 147,
   "metadata": {},
   "outputs": [
    {
     "name": "stdout",
     "output_type": "stream",
     "text": [
      "POSITVIE WORD LEN < 2 rate:  1.0\n",
      "POSITVIE WORD LEN < 2 rate:  1.0\n",
      "NEGATIVE WORD LEN < 2 count:  17\n",
      "POSITVIE WORD LEN < 2 count:  46\n"
     ]
    }
   ],
   "source": [
    "WORD_LEN = 2\n",
    "print(f'POSITVIE WORD LEN < {WORD_LEN} rate: ', pos_df.loc[trn_df.text_len < WORD_LEN, 'selected_rate'].mean())\n",
    "print(f'POSITVIE WORD LEN < {WORD_LEN} rate: ', pos_df.loc[trn_df.text_len < WORD_LEN, 'selected_rate'].mean())\n",
    "\n",
    "print(f'NEGATIVE WORD LEN < {WORD_LEN} count: ', len(neg_df.loc[trn_df.text_len < WORD_LEN, 'selected_rate']))\n",
    "print(f'POSITVIE WORD LEN < {WORD_LEN} count: ', len(pos_df.loc[trn_df.text_len < WORD_LEN, 'selected_rate']))"
   ]
  },
  {
   "cell_type": "code",
   "execution_count": 144,
   "metadata": {},
   "outputs": [
    {
     "name": "stdout",
     "output_type": "stream",
     "text": [
      "POSITVIE WORD LEN < 3 rate:  0.8188405797101449\n",
      "POSITVIE WORD LEN < 3 rate:  0.8188405797101449\n",
      "NEGATIVE WORD LEN < 3 count:  108\n",
      "POSITVIE WORD LEN < 3 count:  207\n"
     ]
    }
   ],
   "source": [
    "WORD_LEN = 3\n",
    "print(f'POSITVIE WORD LEN < {WORD_LEN} rate: ', pos_df.loc[trn_df.text_len < WORD_LEN, 'selected_rate'].mean())\n",
    "print(f'POSITVIE WORD LEN < {WORD_LEN} rate: ', pos_df.loc[trn_df.text_len < WORD_LEN, 'selected_rate'].mean())\n",
    "\n",
    "print(f'NEGATIVE WORD LEN < {WORD_LEN} count: ', len(neg_df.loc[trn_df.text_len < WORD_LEN, 'selected_rate']))\n",
    "print(f'POSITVIE WORD LEN < {WORD_LEN} count: ', len(pos_df.loc[trn_df.text_len < WORD_LEN, 'selected_rate']))"
   ]
  },
  {
   "cell_type": "code",
   "execution_count": 146,
   "metadata": {},
   "outputs": [
    {
     "name": "stdout",
     "output_type": "stream",
     "text": [
      "POSITVIE WORD LEN < 6 :  0.6113196814562003\n",
      "NEGATIVE WORD LEN < 6 :  0.6334681496461072\n",
      "NEGATIVE WORD LEN < 6 count:  989\n",
      "POSITVIE WORD LEN < 6 count:  1172\n"
     ]
    }
   ],
   "source": [
    "WORD_LEN = 6\n",
    "print(f'POSITVIE WORD LEN < {WORD_LEN} : ', pos_df.loc[trn_df.text_len < WORD_LEN, 'selected_rate'].mean())\n",
    "print(f'NEGATIVE WORD LEN < {WORD_LEN} : ',neg_df.loc[trn_df.text_len < WORD_LEN, 'selected_rate'].mean())\n",
    "\n",
    "print(f'NEGATIVE WORD LEN < {WORD_LEN} count: ', len(neg_df.loc[trn_df.text_len < WORD_LEN, 'selected_rate']))\n",
    "print(f'POSITVIE WORD LEN < {WORD_LEN} count: ', len(pos_df.loc[trn_df.text_len < WORD_LEN, 'selected_rate']))"
   ]
  },
  {
   "cell_type": "code",
   "execution_count": null,
   "metadata": {},
   "outputs": [],
   "source": []
  },
  {
   "cell_type": "code",
   "execution_count": 85,
   "metadata": {},
   "outputs": [
    {
     "data": {
      "text/plain": [
       "0.8722388059701492"
      ]
     },
     "execution_count": 85,
     "metadata": {},
     "output_type": "execute_result"
    }
   ],
   "source": [
    "trn_df.loc[trn_df.text_len < 4, 'selected_rate'].mean()"
   ]
  },
  {
   "cell_type": "code",
   "execution_count": null,
   "metadata": {},
   "outputs": [],
   "source": []
  }
 ],
 "metadata": {
  "kernelspec": {
   "display_name": "Python 3",
   "language": "python",
   "name": "python3"
  },
  "language_info": {
   "codemirror_mode": {
    "name": "ipython",
    "version": 3
   },
   "file_extension": ".py",
   "mimetype": "text/x-python",
   "name": "python",
   "nbconvert_exporter": "python",
   "pygments_lexer": "ipython3",
   "version": "3.7.4"
  }
 },
 "nbformat": 4,
 "nbformat_minor": 2
}
