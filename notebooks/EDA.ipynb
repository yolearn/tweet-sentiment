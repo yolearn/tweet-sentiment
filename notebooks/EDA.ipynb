{
 "cells": [
  {
   "cell_type": "code",
   "execution_count": 35,
   "metadata": {},
   "outputs": [
    {
     "data": {
      "text/plain": [
       "['test.csv', 'vocab.txt', 'train.csv', 'sample_submission.csv']"
      ]
     },
     "execution_count": 35,
     "metadata": {},
     "output_type": "execute_result"
    }
   ],
   "source": [
    "import os\n",
    "import pandas as pd\n",
    "import pandas as pd\n",
    "pd.set_option('display.max_rows', 500)\n",
    "pd.set_option('display.max_columns', 500)\n",
    "pd.set_option('display.width', 1000)\n",
    "os.listdir('../input/')"
   ]
  },
  {
   "cell_type": "code",
   "execution_count": 2,
   "metadata": {},
   "outputs": [],
   "source": [
    "trn_df = pd.read_csv('../input/train.csv')\n",
    "test_df = pd.read_csv('../input/test.csv')\n",
    "trn_df['text'] = trn_df['text'].astype(str)\n",
    "test_df['text'] = test_df['text'].astype(str)\n",
    "trn_df['text_len'] = trn_df['text'].apply(lambda x : len(x.split()))\n",
    "test_df['text_len'] = test_df['text'].apply(lambda x : len(x.split()))\n"
   ]
  },
  {
   "cell_type": "code",
   "execution_count": 3,
   "metadata": {},
   "outputs": [
    {
     "name": "stdout",
     "output_type": "stream",
     "text": [
      "train rows : 27481\n",
      "test rows : 3534\n",
      "\n",
      "train mean and median sentence length : 12.902441686983734, 12.0\n",
      "test mean sentence length : 12.763157894736842, 12.0\n",
      "\n",
      "train mean and median sentence length : 12.902441686983734, 12.0\n",
      "test mean sentence length : 12.763157894736842, 12.0\n"
     ]
    }
   ],
   "source": [
    "print(f\"train rows : {trn_df.shape[0]}\")\n",
    "print(f\"test rows : {test_df.shape[0]}\")\n",
    "print(\"\")\n",
    "print(f\"train mean and median sentence length : {trn_df['text_len'].mean()}, {trn_df['text_len'].median()}\")\n",
    "print(f\"test mean sentence length : {test_df['text_len'].mean()}, {test_df['text_len'].median()}\")\n",
    "print(\"\")\n",
    "print(f\"train mean and median sentence length : {trn_df['text_len'].mean()}, {trn_df['text_len'].median()}\")\n",
    "print(f\"test mean sentence length : {test_df['text_len'].mean()}, {test_df['text_len'].median()}\")"
   ]
  },
  {
   "cell_type": "code",
   "execution_count": 4,
   "metadata": {},
   "outputs": [
    {
     "data": {
      "text/plain": [
       "sentiment\n",
       "negative     3.957975\n",
       "neutral     12.068538\n",
       "positive     3.519343\n",
       "Name: selected_text_len, dtype: float64"
      ]
     },
     "execution_count": 4,
     "metadata": {},
     "output_type": "execute_result"
    }
   ],
   "source": [
    "trn_df['selected_text'] = trn_df['selected_text'].astype(str)\n",
    "trn_df['selected_text_len'] = trn_df['selected_text'].apply(lambda x : len(x.split()))\n",
    "trn_df.groupby('sentiment')['selected_text_len'].mean()"
   ]
  },
  {
   "cell_type": "code",
   "execution_count": 37,
   "metadata": {},
   "outputs": [],
   "source": [
    "def check_if_same_by_length(df):\n",
    "    sentiments = []\n",
    "    lengths = []\n",
    "    rates = []\n",
    "    \n",
    "    for sentiment in ['positive', 'negative', 'neutral']:\n",
    "        for length in range(1,33):\n",
    "            yes = 0\n",
    "            no = 0\n",
    "            for i, series in df[(df['sentiment'] == sentiment) & (df['text_len'] == length)].iterrows():\n",
    "                if series['selected_text_len'] == series['text_len']:\n",
    "                    yes+=1\n",
    "                else:\n",
    "                    no+=1\n",
    "            sentiments.append(sentiment)\n",
    "            lengths.append(length)\n",
    "            rates.append(yes/(yes+no))\n",
    "\n",
    "    return pd.DataFrame({'sentiments':sentiments, 'lengths':lengths, 'rates':rates})\n",
    "\n",
    "df = check_if_same_by_length(trn_df)"
   ]
  },
  {
   "cell_type": "code",
   "execution_count": 40,
   "metadata": {},
   "outputs": [
    {
     "data": {
      "image/png": "[encoded data removed]",
      "text/plain": [
       "<Figure size 432x288 with 1 Axes>"
      ]
     },
     "metadata": {
      "needs_background": "light"
     },
     "output_type": "display_data"
    }
   ],
   "source": [
    "import matplotlib.pyplot as plt\n",
    "for sentiment in ['positive', 'negative', 'neutral']:\n",
    "    plt.plot(df[df['sentiments'] == sentiment]['lengths'], df[df['sentiments'] == sentiment]['rates'])"
   ]
  },
  {
   "cell_type": "code",
   "execution_count": 49,
   "metadata": {},
   "outputs": [
    {
     "data": {
      "text/html": [
       "<div>\n",
       "<style scoped>\n",
       "    .dataframe tbody tr th:only-of-type {\n",
       "        vertical-align: middle;\n",
       "    }\n",
       "\n",
       "    .dataframe tbody tr th {\n",
       "        vertical-align: top;\n",
       "    }\n",
       "\n",
       "    .dataframe thead th {\n",
       "        text-align: right;\n",
       "    }\n",
       "</style>\n",
       "<table border=\"1\" class=\"dataframe\">\n",
       "  <thead>\n",
       "    <tr style=\"text-align: right;\">\n",
       "      <th></th>\n",
       "      <th>textID</th>\n",
       "      <th>text</th>\n",
       "      <th>selected_text</th>\n",
       "      <th>sentiment</th>\n",
       "      <th>text_len</th>\n",
       "      <th>selected_text_len</th>\n",
       "    </tr>\n",
       "  </thead>\n",
       "  <tbody>\n",
       "    <tr>\n",
       "      <td>63</td>\n",
       "      <td>90a2cdb657</td>\n",
       "      <td>What better way to spoil mum than to let her k...</td>\n",
       "      <td>favorite</td>\n",
       "      <td>positive</td>\n",
       "      <td>30</td>\n",
       "      <td>1</td>\n",
       "    </tr>\n",
       "    <tr>\n",
       "      <td>3202</td>\n",
       "      <td>d68d87da7b</td>\n",
       "      <td>well.. all my slacking off earned me a D and a...</td>\n",
       "      <td>earned me</td>\n",
       "      <td>positive</td>\n",
       "      <td>30</td>\n",
       "      <td>2</td>\n",
       "    </tr>\n",
       "    <tr>\n",
       "      <td>4544</td>\n",
       "      <td>ef5c867533</td>\n",
       "      <td>aww  i hope u find it soon i miss it. i cnt e...</td>\n",
       "      <td>aww  i hope u find it soon i miss it.</td>\n",
       "      <td>positive</td>\n",
       "      <td>30</td>\n",
       "      <td>10</td>\n",
       "    </tr>\n",
       "    <tr>\n",
       "      <td>4794</td>\n",
       "      <td>a18d8120be</td>\n",
       "      <td>Recovering from my crazy family. I love them, ...</td>\n",
       "      <td>Recovering from my crazy family. I love them, ...</td>\n",
       "      <td>positive</td>\n",
       "      <td>30</td>\n",
       "      <td>30</td>\n",
       "    </tr>\n",
       "    <tr>\n",
       "      <td>5371</td>\n",
       "      <td>a85eb567d6</td>\n",
       "      <td>checked out Green Day on demand &amp; saw the new ...</td>\n",
       "      <td>U were right, they did blow my mind  I love u ...</td>\n",
       "      <td>positive</td>\n",
       "      <td>30</td>\n",
       "      <td>18</td>\n",
       "    </tr>\n",
       "    <tr>\n",
       "      <td>6891</td>\n",
       "      <td>e9990baa94</td>\n",
       "      <td>I TRIED TO PUT A IRON ON , ON MY BOOK BAG AND ...</td>\n",
       "      <td>BUZZ KEEP MAKING FUN OF ME</td>\n",
       "      <td>positive</td>\n",
       "      <td>30</td>\n",
       "      <td>6</td>\n",
       "    </tr>\n",
       "    <tr>\n",
       "      <td>8386</td>\n",
       "      <td>c930716002</td>\n",
       "      <td>Happy Friday! Do u know how I can get a copy ...</td>\n",
       "      <td>Happy Friday!</td>\n",
       "      <td>positive</td>\n",
       "      <td>30</td>\n",
       "      <td>2</td>\n",
       "    </tr>\n",
       "    <tr>\n",
       "      <td>13596</td>\n",
       "      <td>e5af32e35c</td>\n",
       "      <td>I am going to work than, ill be home, and im g...</td>\n",
       "      <td>everyone have a wonderful day</td>\n",
       "      <td>positive</td>\n",
       "      <td>30</td>\n",
       "      <td>5</td>\n",
       "    </tr>\n",
       "    <tr>\n",
       "      <td>13699</td>\n",
       "      <td>23e8533b42</td>\n",
       "      <td>It`s so awesome to know that there are people ...</td>\n",
       "      <td>It`s so awesome to know that there are people ...</td>\n",
       "      <td>positive</td>\n",
       "      <td>30</td>\n",
       "      <td>30</td>\n",
       "    </tr>\n",
       "    <tr>\n",
       "      <td>14702</td>\n",
       "      <td>88840a2a93</td>\n",
       "      <td>thx for all the nice 'it`s going to be alright...</td>\n",
       "      <td>thx for all the nice</td>\n",
       "      <td>positive</td>\n",
       "      <td>30</td>\n",
       "      <td>5</td>\n",
       "    </tr>\n",
       "    <tr>\n",
       "      <td>14842</td>\n",
       "      <td>40c25ade49</td>\n",
       "      <td>me 10 - 630, andrew 8 - 4. No idea about the r...</td>\n",
       "      <td>fun</td>\n",
       "      <td>positive</td>\n",
       "      <td>30</td>\n",
       "      <td>1</td>\n",
       "    </tr>\n",
       "    <tr>\n",
       "      <td>16445</td>\n",
       "      <td>ea179bc7a9</td>\n",
       "      <td>i`m doin my tweets on my phone so i have on cl...</td>\n",
       "      <td>thank u</td>\n",
       "      <td>positive</td>\n",
       "      <td>30</td>\n",
       "      <td>2</td>\n",
       "    </tr>\n",
       "    <tr>\n",
       "      <td>19412</td>\n",
       "      <td>5cbd4f1169</td>\n",
       "      <td>Happy Mother`s day! Sent msg to mom and got he...</td>\n",
       "      <td>I can take care of her.</td>\n",
       "      <td>positive</td>\n",
       "      <td>30</td>\n",
       "      <td>6</td>\n",
       "    </tr>\n",
       "    <tr>\n",
       "      <td>23183</td>\n",
       "      <td>5d29c8c13a</td>\n",
       "      <td>Off to bed - I have a hot date with Sudoku and...</td>\n",
       "      <td>great</td>\n",
       "      <td>positive</td>\n",
       "      <td>30</td>\n",
       "      <td>1</td>\n",
       "    </tr>\n",
       "    <tr>\n",
       "      <td>23800</td>\n",
       "      <td>044d652e38</td>\n",
       "      <td>sheboygan / teekay / other kids / fight / angu...</td>\n",
       "      <td>fun night</td>\n",
       "      <td>positive</td>\n",
       "      <td>30</td>\n",
       "      <td>2</td>\n",
       "    </tr>\n",
       "    <tr>\n",
       "      <td>24986</td>\n",
       "      <td>f7743c41d7</td>\n",
       "      <td>i love all da sexy ladiez ya beautiful unique ...</td>\n",
       "      <td>i love all da sexy ladiez ya beautiful unique ...</td>\n",
       "      <td>positive</td>\n",
       "      <td>30</td>\n",
       "      <td>30</td>\n",
       "    </tr>\n",
       "  </tbody>\n",
       "</table>\n",
       "</div>"
      ],
      "text/plain": [
       "           textID                                               text                                      selected_text sentiment  text_len  selected_text_len\n",
       "63     90a2cdb657  What better way to spoil mum than to let her k...                                           favorite  positive        30                  1\n",
       "3202   d68d87da7b  well.. all my slacking off earned me a D and a...                                          earned me  positive        30                  2\n",
       "4544   ef5c867533   aww  i hope u find it soon i miss it. i cnt e...              aww  i hope u find it soon i miss it.  positive        30                 10\n",
       "4794   a18d8120be  Recovering from my crazy family. I love them, ...  Recovering from my crazy family. I love them, ...  positive        30                 30\n",
       "5371   a85eb567d6  checked out Green Day on demand & saw the new ...  U were right, they did blow my mind  I love u ...  positive        30                 18\n",
       "6891   e9990baa94  I TRIED TO PUT A IRON ON , ON MY BOOK BAG AND ...                         BUZZ KEEP MAKING FUN OF ME  positive        30                  6\n",
       "8386   c930716002   Happy Friday! Do u know how I can get a copy ...                                      Happy Friday!  positive        30                  2\n",
       "13596  e5af32e35c  I am going to work than, ill be home, and im g...                      everyone have a wonderful day  positive        30                  5\n",
       "13699  23e8533b42  It`s so awesome to know that there are people ...  It`s so awesome to know that there are people ...  positive        30                 30\n",
       "14702  88840a2a93  thx for all the nice 'it`s going to be alright...                               thx for all the nice  positive        30                  5\n",
       "14842  40c25ade49  me 10 - 630, andrew 8 - 4. No idea about the r...                                                fun  positive        30                  1\n",
       "16445  ea179bc7a9  i`m doin my tweets on my phone so i have on cl...                                            thank u  positive        30                  2\n",
       "19412  5cbd4f1169  Happy Mother`s day! Sent msg to mom and got he...                            I can take care of her.  positive        30                  6\n",
       "23183  5d29c8c13a  Off to bed - I have a hot date with Sudoku and...                                              great  positive        30                  1\n",
       "23800  044d652e38  sheboygan / teekay / other kids / fight / angu...                                          fun night  positive        30                  2\n",
       "24986  f7743c41d7  i love all da sexy ladiez ya beautiful unique ...  i love all da sexy ladiez ya beautiful unique ...  positive        30                 30"
      ]
     },
     "execution_count": 49,
     "metadata": {},
     "output_type": "execute_result"
    }
   ],
   "source": [
    "trn_df[(trn_df['text_len'] == 30) & (trn_df['sentiment'] == 'positive')]"
   ]
  },
  {
   "cell_type": "code",
   "execution_count": 50,
   "metadata": {},
   "outputs": [
    {
     "name": "stdout",
     "output_type": "stream",
     "text": [
      "It`s so awesome to know that there are people who think I have what it takes to make it in Nashville, and who offer to help if I want it.\n",
      "It`s so awesome to know that there are people who think I have what it takes to make it in Nashville, and who offer to help if I want it.\n"
     ]
    }
   ],
   "source": [
    "print(trn_df.iloc[13699]['text'])\n",
    "print(trn_df.iloc[13699]['selected_text'])"
   ]
  },
  {
   "cell_type": "code",
   "execution_count": 45,
   "metadata": {},
   "outputs": [
    {
     "data": {
      "text/plain": [
       "'samee well i aint a man i am a girl obv nd i am 14 lol   i aint no1 special or not famous or rich  wish to be tho'"
      ]
     },
     "execution_count": 45,
     "metadata": {},
     "output_type": "execute_result"
    }
   ],
   "source": [
    "print(trn_df.iloc[27278]['text'])\n",
    "print(trn_df.iloc[27278]['selected_text'])"
   ]
  },
  {
   "cell_type": "code",
   "execution_count": null,
   "metadata": {},
   "outputs": [],
   "source": []
  }
 ],
 "metadata": {
  "kernelspec": {
   "display_name": "Python 3",
   "language": "python",
   "name": "python3"
  },
  "language_info": {
   "codemirror_mode": {
    "name": "ipython",
    "version": 3
   },
   "file_extension": ".py",
   "mimetype": "text/x-python",
   "name": "python",
   "nbconvert_exporter": "python",
   "pygments_lexer": "ipython3",
   "version": "3.7.4"
  }
 },
 "nbformat": 4,
 "nbformat_minor": 2
}
